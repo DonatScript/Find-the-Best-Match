{
 "cells": [
  {
   "cell_type": "markdown",
   "id": "b8b1d8fc-a4b0-477f-a36e-9a394c4e6266",
   "metadata": {
    "jp-MarkdownHeadingCollapsed": true,
    "tags": []
   },
   "source": [
    "# Project: Rank Tweets by Kindness\n",
    "\n",
    "**Sentiment Analysis**: Social media can be a great place to connect with others and share positive thoughts and experiences. However, it can also be a breeding ground for negativity and hate speech. This project aims to develop a system to rank tweets by kindness in order to promote more positive and supportive online interactions.\n",
    "\n",
    "**Benefits:**\n",
    "\n",
    "The proposed system has the potential to provide a number of benefits, including:\n",
    "\n",
    "- Promoting more positive and supportive online interactions\n",
    "- Reducing the spread of negativity and hate speech\n",
    "- Helping people to find and connect with others who share their values\n",
    "- Making social media a more enjoyable and welcoming place for everyone\n",
    "\n",
    "**Tasks:**\n",
    "\n",
    "The proposed system will use sentiment analysis to identify and rank tweets based on their level of kindness. This will be done by the following steps:\n",
    "\n",
    "1. Read the `nice_words.txt` file into a list. This file will contain a list of words that are typically associated with kindness, such as \"love,\" \"compassion,\" and \"gratitude.\"\n",
    "1. Read the `tweets.txt` file into a tweets list. This file will contain a collection of tweets to be ranked.\n",
    "1. Look at each of the tweets and count the number of nice words.\n",
    "1. Sort the tweets in descending order based on the number of nice words, with the most kind tweet first.\n",
    "1. Display the tweets, along with the count of nice words in each tweet.\n",
    "\n",
    "```\n",
    "sample tweets:\n",
    "[\n",
    "    \"great and awesome\",\n",
    "    \"what a good day\"\n",
    "]\n",
    "sample output:\n",
    "[\n",
    "    (\"great and awesome\", 2),\n",
    "    (\"what a good day\", 1),\n",
    "]\n",
    "```"
   ]
  },
  {
   "cell_type": "code",
   "execution_count": 8,
   "id": "751ad269",
   "metadata": {},
   "outputs": [
    {
     "data": {
      "text/plain": [
       "['awesome',\n",
       " 'beautiful',\n",
       " 'brilliant',\n",
       " 'caring',\n",
       " 'charming',\n",
       " 'clever',\n",
       " 'courageous',\n",
       " 'creative',\n",
       " 'delightful',\n",
       " 'excellent',\n",
       " 'fantastic',\n",
       " 'friendly',\n",
       " 'generous',\n",
       " 'gentle',\n",
       " 'genuine',\n",
       " 'glorious',\n",
       " 'good',\n",
       " 'great',\n",
       " 'helpful',\n",
       " 'honest',\n",
       " 'intelligent',\n",
       " 'kind',\n",
       " 'loving',\n",
       " 'marvelous',\n",
       " 'neat',\n",
       " 'noble',\n",
       " 'outstanding',\n",
       " 'perfect',\n",
       " 'pleasant',\n",
       " 'polite',\n",
       " 'positive',\n",
       " 'precious',\n",
       " 'pretty',\n",
       " 'proud',\n",
       " 'qualified',\n",
       " 'radiant',\n",
       " 'reliable',\n",
       " 'remarkable',\n",
       " 'responsible',\n",
       " 'respectful',\n",
       " 'responsible',\n",
       " 'safe',\n",
       " 'satisfied',\n",
       " 'secure',\n",
       " 'sensible',\n",
       " 'sensational',\n",
       " 'sincere',\n",
       " 'skillful',\n",
       " 'smart',\n",
       " 'splendid',\n",
       " 'stunning',\n",
       " 'superb',\n",
       " 'talented',\n",
       " 'terrific',\n",
       " 'thoughtful',\n",
       " 'tremendous',\n",
       " 'trustworthy',\n",
       " 'valuable',\n",
       " 'wonderful',\n",
       " 'zealous']"
      ]
     },
     "execution_count": 8,
     "metadata": {},
     "output_type": "execute_result"
    }
   ],
   "source": [
    "nice_words_file = open(\"nice_words.txt\", \"r\")\n",
    "nice_words_list = []\n",
    "for line in nice_words_file:\n",
    "    nice_words_list.append(line.strip())\n",
    "nice_words_list"
   ]
  },
  {
   "cell_type": "code",
   "execution_count": 18,
   "id": "bc2efb0e",
   "metadata": {},
   "outputs": [
    {
     "data": {
      "text/plain": [
       "[('Grateful for the amazing people in my life who make it so wonderful', 1),\n",
       " ('The beautiful flowers were in full bloom and the sweet scent filled the air . The birds were singing merrily and the sun was shining brightly . It was a perfect day',\n",
       "  2),\n",
       " ('The kind and generous old man was always willing to help others . He was a role model for the entire community and he was loved by everyone',\n",
       "  2),\n",
       " ('The intelligent and talented young woman had a bright future ahead of her . She was passionate about her work and she was determined to make a difference in the world',\n",
       "  2),\n",
       " ('Sending out good vibes to everyone today! Have a beautiful day!', 2)]"
      ]
     },
     "execution_count": 18,
     "metadata": {},
     "output_type": "execute_result"
    }
   ],
   "source": [
    "tweets_file = open(\"tweets.txt\", \"r\")\n",
    "tweets_list = []\n",
    "for line in tweets_file:\n",
    "    tweets_list.append(line.strip())\n",
    "result = []\n",
    "for tweet in tweets_list:\n",
    "    count = 0\n",
    "    for word in tweet.split():\n",
    "        if word in nice_words_list:\n",
    "            count = count + 1\n",
    "    result.append((tweet,count))\n",
    "    \n",
    "result"
   ]
  }
 ],
 "metadata": {
  "kernelspec": {
   "display_name": "Python 3 (ipykernel)",
   "language": "python",
   "name": "python3"
  },
  "language_info": {
   "codemirror_mode": {
    "name": "ipython",
    "version": 3
   },
   "file_extension": ".py",
   "mimetype": "text/x-python",
   "name": "python",
   "nbconvert_exporter": "python",
   "pygments_lexer": "ipython3",
   "version": "3.11.5"
  }
 },
 "nbformat": 4,
 "nbformat_minor": 5
}
